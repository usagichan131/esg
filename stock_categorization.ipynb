{
 "cells": [
  {
   "cell_type": "code",
   "execution_count": 1,
   "metadata": {},
   "outputs": [],
   "source": [
    "import pandas as pd \n",
    "import numpy as np "
   ]
  },
  {
   "cell_type": "code",
   "execution_count": 2,
   "metadata": {},
   "outputs": [],
   "source": [
    "VNSI = ['BMP','CTD','DCM','DHG','DPM','FPT','GAS',\n",
    "        'HCM','HSG','MBB','NT2','NVL','PNJ','PVD',\n",
    "        'REE','SBT','SSI','STB','VIC','VNM']"
   ]
  },
  {
   "cell_type": "code",
   "execution_count": 3,
   "metadata": {},
   "outputs": [],
   "source": [
    "VN30 = ['CII','CTD','CTG','DHG','DPM','EIB','FPT',\n",
    "        'GAS','GMD','HDB','HPG','MBB','MSN','MWG','NVL',\n",
    "        'PNJ','REE','ROS','SAB','SBT','SSI','STB','TCB',\n",
    "        'VCB','VHM','VIC','VJC','VNM','VPB','VRE']"
   ]
  },
  {
   "cell_type": "code",
   "execution_count": 9,
   "metadata": {},
   "outputs": [],
   "source": [
    "VNSI_top10 = ['BMP','CTD','DCM','DHG','DPM','FPT','GAS',\n",
    "        'HCM','HSG','MBB']"
   ]
  },
  {
   "cell_type": "code",
   "execution_count": 4,
   "metadata": {},
   "outputs": [],
   "source": [
    "ESG_group = []"
   ]
  },
  {
   "cell_type": "code",
   "execution_count": 5,
   "metadata": {},
   "outputs": [],
   "source": [
    "non_ESG_group = []"
   ]
  },
  {
   "cell_type": "code",
   "execution_count": 6,
   "metadata": {},
   "outputs": [],
   "source": [
    "for i in VN30:\n",
    "    if i in VNSI:\n",
    "        ESG_group.append(i)\n",
    "    else:\n",
    "        non_ESG_group.append(i)"
   ]
  },
  {
   "cell_type": "code",
   "execution_count": 7,
   "metadata": {},
   "outputs": [
    {
     "data": {
      "text/plain": [
       "['CTD',\n",
       " 'DHG',\n",
       " 'DPM',\n",
       " 'FPT',\n",
       " 'GAS',\n",
       " 'MBB',\n",
       " 'NVL',\n",
       " 'PNJ',\n",
       " 'REE',\n",
       " 'SBT',\n",
       " 'SSI',\n",
       " 'STB',\n",
       " 'VIC',\n",
       " 'VNM']"
      ]
     },
     "execution_count": 7,
     "metadata": {},
     "output_type": "execute_result"
    }
   ],
   "source": [
    "ESG_group"
   ]
  },
  {
   "cell_type": "code",
   "execution_count": 8,
   "metadata": {},
   "outputs": [
    {
     "data": {
      "text/plain": [
       "['CII',\n",
       " 'CTG',\n",
       " 'EIB',\n",
       " 'GMD',\n",
       " 'HDB',\n",
       " 'HPG',\n",
       " 'MSN',\n",
       " 'MWG',\n",
       " 'ROS',\n",
       " 'SAB',\n",
       " 'TCB',\n",
       " 'VCB',\n",
       " 'VHM',\n",
       " 'VJC',\n",
       " 'VPB',\n",
       " 'VRE']"
      ]
     },
     "execution_count": 8,
     "metadata": {},
     "output_type": "execute_result"
    }
   ],
   "source": [
    "non_ESG_group"
   ]
  },
  {
   "cell_type": "code",
   "execution_count": 10,
   "metadata": {},
   "outputs": [],
   "source": [
    "high_ESG = []\n",
    "low_ESG = []"
   ]
  },
  {
   "cell_type": "code",
   "execution_count": 11,
   "metadata": {},
   "outputs": [],
   "source": [
    "for i in ESG_group:\n",
    "    if i in VNSI_top10:\n",
    "        high_ESG.append(i)\n",
    "    else:\n",
    "        low_ESG.append(i)"
   ]
  },
  {
   "cell_type": "code",
   "execution_count": 12,
   "metadata": {},
   "outputs": [
    {
     "data": {
      "text/plain": [
       "['CTD', 'DHG', 'DPM', 'FPT', 'GAS', 'MBB']"
      ]
     },
     "execution_count": 12,
     "metadata": {},
     "output_type": "execute_result"
    }
   ],
   "source": [
    "high_ESG"
   ]
  },
  {
   "cell_type": "code",
   "execution_count": 13,
   "metadata": {},
   "outputs": [
    {
     "data": {
      "text/plain": [
       "['NVL', 'PNJ', 'REE', 'SBT', 'SSI', 'STB', 'VIC', 'VNM']"
      ]
     },
     "execution_count": 13,
     "metadata": {},
     "output_type": "execute_result"
    }
   ],
   "source": [
    "low_ESG"
   ]
  }
 ],
 "metadata": {
  "kernelspec": {
   "display_name": "Python 3",
   "language": "python",
   "name": "python3"
  },
  "language_info": {
   "codemirror_mode": {
    "name": "ipython",
    "version": 3
   },
   "file_extension": ".py",
   "mimetype": "text/x-python",
   "name": "python",
   "nbconvert_exporter": "python",
   "pygments_lexer": "ipython3",
   "version": "3.12.7"
  }
 },
 "nbformat": 4,
 "nbformat_minor": 2
}
