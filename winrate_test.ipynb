{
 "cells": [
  {
   "cell_type": "code",
   "execution_count": 51,
   "metadata": {},
   "outputs": [],
   "source": [
    "import numpy as np\n",
    "import pandas as pd\n",
    "import ta\n",
    "from vnstock3 import Vnstock \n",
    "import ta"
   ]
  },
  {
   "cell_type": "code",
   "execution_count": 52,
   "metadata": {},
   "outputs": [],
   "source": [
    "RSI_PERIOD = 14\n",
    "RSI_OVERSOLD = 30\n",
    "RSI_OVERBOUGHT = 70\n",
    "MACD_FAST_PERIOD = 12\n",
    "MACD_SLOW_PERIOD = 26\n",
    "MACD_SIGNAL_PERIOD = 9"
   ]
  },
  {
   "cell_type": "code",
   "execution_count": 53,
   "metadata": {},
   "outputs": [],
   "source": [
    "def calculate_indicators_macd(df):\n",
    "    if df.empty:\n",
    "        return df\n",
    "    \n",
    "    df['RSI'] = ta.momentum.RSIIndicator(df['close'], RSI_PERIOD).rsi()\n",
    "    df['Previous_RSI'] = df['RSI'].shift(1)\n",
    "    df['Previous_RSI'].fillna(0, inplace=True)\n",
    "    macd = ta.trend.MACD(df['close'], window_slow=MACD_SLOW_PERIOD, window_fast=MACD_FAST_PERIOD, window_sign=MACD_SIGNAL_PERIOD)\n",
    "    df['MACD'] = macd.macd()\n",
    "    df['Signal_Line'] = macd.macd_signal()\n",
    "    df['Previous_MACD'] = df['MACD'].shift(1)\n",
    "    df['Previous_Signal_Line'] = df['Signal_Line'].shift(1)\n",
    "    df['Previous_MACD'].fillna(0, inplace=True)\n",
    "    df['Previous_Signal_Line'].fillna(0, inplace=True)\n",
    "    \n",
    "    return df"
   ]
  },
  {
   "cell_type": "code",
   "execution_count": 54,
   "metadata": {},
   "outputs": [],
   "source": [
    "def trading_strategy_test_macd(df, day_range=(5, 30), step=5):\n",
    "    results = {}\n",
    "    \n",
    "    for days in range(day_range[0], day_range[1] + 1, step):\n",
    "        df['Buy_Signal'] = (df['Previous_MACD'] < df['Previous_Signal_Line']) & (df['MACD'] >= df['Signal_Line']) & (df['RSI'] > RSI_OVERSOLD)\n",
    "        wins = 0\n",
    "        total_trades = 0\n",
    "        for i in range(len(df)):\n",
    "            if df['Buy_Signal'].iloc[i]:\n",
    "                buy_price = df['close'].iloc[i]\n",
    "                if i + days < len(df):\n",
    "                    sell_price = df['close'].iloc[i + days]\n",
    "                    if sell_price > buy_price:\n",
    "                        wins += 1\n",
    "                    total_trades += 1\n",
    "\n",
    "        win_rate = (wins / total_trades * 100) if total_trades != 0 else 0\n",
    "        results[days] = win_rate\n",
    "    \n",
    "    return results"
   ]
  },
  {
   "cell_type": "code",
   "execution_count": 55,
   "metadata": {},
   "outputs": [],
   "source": [
    "start_date = '2017-02-01'\n",
    "end_date = '2019-01-01'"
   ]
  },
  {
   "cell_type": "code",
   "execution_count": 56,
   "metadata": {},
   "outputs": [],
   "source": [
    "ESG = [\n",
    "    \"BID\", \"BMP\", \"BVH\", \"CTD\", \"DHG\", \"DPM\", \"FPT\",\n",
    "    \"HSG\", \"MBB\", \"NT2\", \"REE\", \"SBT\", \"VCB\", \"VIC\", \"VNM\"\n",
    "]\n",
    "non_ESG = [\n",
    "    'MWG', 'CTG', 'SSI', 'HPG', 'NVL', 'GMD', 'KDC', 'STB', \n",
    "    'ROS', 'GAS', 'PLX', 'MSN', 'SAB', 'VJC', 'CII'\n",
    "]"
   ]
  },
  {
   "cell_type": "code",
   "execution_count": 57,
   "metadata": {},
   "outputs": [],
   "source": [
    "VN30 = ['BID','BMP','BVH','CII','CTD','CTG','DHG','DPM','FPT',\n",
    "        'GAS','GMD','HPG','HSG','KDC','MBB','MSN','MWG','NT2','NVL',\n",
    "        'PLX','REE','ROS','SAB','SBT','SSI','STB',\n",
    "        'VCB','VIC','VJC','VNM']"
   ]
  },
  {
   "cell_type": "code",
   "execution_count": 58,
   "metadata": {},
   "outputs": [],
   "source": [
    "def company_winrate(symbol, start_date, end_date):\n",
    "    vn = Vnstock()\n",
    "    df = vn.stock(symbol=symbol, source='VCI').quote.history(start=start_date, end=end_date)\n",
    "        \n",
    "    if df.empty:\n",
    "        return [0, 0] \n",
    "    \n",
    "    df = calculate_indicators_macd(df)\n",
    "    winrate = trading_strategy_test_macd(df)\n",
    "        \n",
    "    return winrate"
   ]
  },
  {
   "cell_type": "code",
   "execution_count": 59,
   "metadata": {},
   "outputs": [
    {
     "name": "stderr",
     "output_type": "stream",
     "text": [
      "2025-01-14 18:13:48 - vnstock3.common.data.data_explorer - WARNING - Thông tin niêm yết & giao dịch sẽ được truy xuất từ TCBS\n",
      "2025-01-14 18:13:50 - vnstock3.common.data.data_explorer - WARNING - Thông tin niêm yết & giao dịch sẽ được truy xuất từ TCBS\n",
      "2025-01-14 18:13:51 - vnstock3.common.data.data_explorer - WARNING - Thông tin niêm yết & giao dịch sẽ được truy xuất từ TCBS\n",
      "2025-01-14 18:13:53 - vnstock3.common.data.data_explorer - WARNING - Thông tin niêm yết & giao dịch sẽ được truy xuất từ TCBS\n",
      "2025-01-14 18:13:55 - vnstock3.common.data.data_explorer - WARNING - Thông tin niêm yết & giao dịch sẽ được truy xuất từ TCBS\n",
      "2025-01-14 18:13:56 - vnstock3.common.data.data_explorer - WARNING - Thông tin niêm yết & giao dịch sẽ được truy xuất từ TCBS\n",
      "2025-01-14 18:13:58 - vnstock3.common.data.data_explorer - WARNING - Thông tin niêm yết & giao dịch sẽ được truy xuất từ TCBS\n",
      "2025-01-14 18:13:59 - vnstock3.common.data.data_explorer - WARNING - Thông tin niêm yết & giao dịch sẽ được truy xuất từ TCBS\n",
      "2025-01-14 18:14:01 - vnstock3.common.data.data_explorer - WARNING - Thông tin niêm yết & giao dịch sẽ được truy xuất từ TCBS\n",
      "2025-01-14 18:14:03 - vnstock3.common.data.data_explorer - WARNING - Thông tin niêm yết & giao dịch sẽ được truy xuất từ TCBS\n",
      "2025-01-14 18:14:04 - vnstock3.common.data.data_explorer - WARNING - Thông tin niêm yết & giao dịch sẽ được truy xuất từ TCBS\n",
      "2025-01-14 18:14:06 - vnstock3.common.data.data_explorer - WARNING - Thông tin niêm yết & giao dịch sẽ được truy xuất từ TCBS\n",
      "2025-01-14 18:14:08 - vnstock3.common.data.data_explorer - WARNING - Thông tin niêm yết & giao dịch sẽ được truy xuất từ TCBS\n",
      "2025-01-14 18:14:09 - vnstock3.common.data.data_explorer - WARNING - Thông tin niêm yết & giao dịch sẽ được truy xuất từ TCBS\n",
      "2025-01-14 18:14:11 - vnstock3.common.data.data_explorer - WARNING - Thông tin niêm yết & giao dịch sẽ được truy xuất từ TCBS\n",
      "2025-01-14 18:14:12 - vnstock3.common.data.data_explorer - WARNING - Thông tin niêm yết & giao dịch sẽ được truy xuất từ TCBS\n",
      "2025-01-14 18:14:14 - vnstock3.common.data.data_explorer - WARNING - Thông tin niêm yết & giao dịch sẽ được truy xuất từ TCBS\n",
      "2025-01-14 18:14:15 - vnstock3.common.data.data_explorer - WARNING - Thông tin niêm yết & giao dịch sẽ được truy xuất từ TCBS\n",
      "2025-01-14 18:14:17 - vnstock3.common.data.data_explorer - WARNING - Thông tin niêm yết & giao dịch sẽ được truy xuất từ TCBS\n",
      "2025-01-14 18:14:18 - vnstock3.common.data.data_explorer - WARNING - Thông tin niêm yết & giao dịch sẽ được truy xuất từ TCBS\n",
      "2025-01-14 18:14:20 - vnstock3.common.data.data_explorer - WARNING - Thông tin niêm yết & giao dịch sẽ được truy xuất từ TCBS\n",
      "2025-01-14 18:14:22 - vnstock3.common.data.data_explorer - WARNING - Thông tin niêm yết & giao dịch sẽ được truy xuất từ TCBS\n",
      "2025-01-14 18:14:23 - vnstock3.common.data.data_explorer - WARNING - Thông tin niêm yết & giao dịch sẽ được truy xuất từ TCBS\n",
      "2025-01-14 18:14:25 - vnstock3.common.data.data_explorer - WARNING - Thông tin niêm yết & giao dịch sẽ được truy xuất từ TCBS\n",
      "2025-01-14 18:14:26 - vnstock3.common.data.data_explorer - WARNING - Thông tin niêm yết & giao dịch sẽ được truy xuất từ TCBS\n",
      "2025-01-14 18:14:28 - vnstock3.common.data.data_explorer - WARNING - Thông tin niêm yết & giao dịch sẽ được truy xuất từ TCBS\n",
      "2025-01-14 18:14:30 - vnstock3.common.data.data_explorer - WARNING - Thông tin niêm yết & giao dịch sẽ được truy xuất từ TCBS\n",
      "2025-01-14 18:14:31 - vnstock3.common.data.data_explorer - WARNING - Thông tin niêm yết & giao dịch sẽ được truy xuất từ TCBS\n",
      "2025-01-14 18:14:39 - vnstock3.common.data.data_explorer - WARNING - Thông tin niêm yết & giao dịch sẽ được truy xuất từ TCBS\n",
      "2025-01-14 18:14:41 - vnstock3.common.data.data_explorer - WARNING - Thông tin niêm yết & giao dịch sẽ được truy xuất từ TCBS\n"
     ]
    }
   ],
   "source": [
    "winrate_macd = {}\n",
    "for company in VN30:\n",
    "    try:\n",
    "        company_winr = company_winrate(company, start_date=start_date, end_date=end_date)\n",
    "        winrate_macd[company] = company_winr\n",
    "\n",
    "    except Exception as e:\n",
    "        print(f\"Error occurred for {company}: {e}\")"
   ]
  },
  {
   "cell_type": "code",
   "execution_count": 60,
   "metadata": {},
   "outputs": [
    {
     "data": {
      "text/plain": [
       "{'BID': {5: 73.33333333333333,\n",
       "  10: 60.0,\n",
       "  15: 66.66666666666666,\n",
       "  20: 66.66666666666666,\n",
       "  25: 53.333333333333336,\n",
       "  30: 66.66666666666666},\n",
       " 'BMP': {5: 60.0,\n",
       "  10: 60.0,\n",
       "  15: 53.333333333333336,\n",
       "  20: 46.666666666666664,\n",
       "  25: 33.33333333333333,\n",
       "  30: 50.0},\n",
       " 'BVH': {5: 52.63157894736842,\n",
       "  10: 42.10526315789473,\n",
       "  15: 47.368421052631575,\n",
       "  20: 44.44444444444444,\n",
       "  25: 38.88888888888889,\n",
       "  30: 52.94117647058824},\n",
       " 'CII': {5: 47.05882352941176,\n",
       "  10: 47.05882352941176,\n",
       "  15: 47.05882352941176,\n",
       "  20: 41.17647058823529,\n",
       "  25: 23.52941176470588,\n",
       "  30: 29.411764705882355},\n",
       " 'CTD': {5: 37.5, 10: 50.0, 15: 43.75, 20: 62.5, 25: 56.25, 30: 56.25},\n",
       " 'CTG': {5: 64.70588235294117,\n",
       "  10: 47.05882352941176,\n",
       "  15: 64.70588235294117,\n",
       "  20: 58.82352941176471,\n",
       "  25: 58.82352941176471,\n",
       "  30: 56.25},\n",
       " 'DHG': {5: 58.82352941176471,\n",
       "  10: 58.82352941176471,\n",
       "  15: 58.82352941176471,\n",
       "  20: 47.05882352941176,\n",
       "  25: 47.05882352941176,\n",
       "  30: 29.411764705882355},\n",
       " 'DPM': {5: 37.5, 10: 43.75, 15: 56.25, 20: 37.5, 25: 56.25, 30: 56.25},\n",
       " 'FPT': {5: 61.111111111111114,\n",
       "  10: 50.0,\n",
       "  15: 50.0,\n",
       "  20: 55.55555555555556,\n",
       "  25: 66.66666666666666,\n",
       "  30: 61.111111111111114},\n",
       " 'GAS': {5: 66.66666666666666,\n",
       "  10: 55.55555555555556,\n",
       "  15: 61.111111111111114,\n",
       "  20: 66.66666666666666,\n",
       "  25: 72.22222222222221,\n",
       "  30: 76.47058823529412},\n",
       " 'GMD': {5: 43.75, 10: 43.75, 15: 43.75, 20: 50.0, 25: 31.25, 30: 43.75},\n",
       " 'HPG': {5: 46.666666666666664,\n",
       "  10: 66.66666666666666,\n",
       "  15: 40.0,\n",
       "  20: 64.28571428571429,\n",
       "  25: 57.14285714285714,\n",
       "  30: 50.0},\n",
       " 'HSG': {5: 46.666666666666664,\n",
       "  10: 46.666666666666664,\n",
       "  15: 53.333333333333336,\n",
       "  20: 46.666666666666664,\n",
       "  25: 53.333333333333336,\n",
       "  30: 50.0},\n",
       " 'KDC': {5: 72.72727272727273,\n",
       "  10: 54.54545454545454,\n",
       "  15: 45.45454545454545,\n",
       "  20: 50.0,\n",
       "  25: 40.0,\n",
       "  30: 50.0},\n",
       " 'MBB': {5: 58.82352941176471,\n",
       "  10: 70.58823529411765,\n",
       "  15: 52.94117647058824,\n",
       "  20: 52.94117647058824,\n",
       "  25: 58.82352941176471,\n",
       "  30: 68.75},\n",
       " 'MSN': {5: 50.0,\n",
       "  10: 42.857142857142854,\n",
       "  15: 42.857142857142854,\n",
       "  20: 50.0,\n",
       "  25: 57.14285714285714,\n",
       "  30: 57.14285714285714},\n",
       " 'MWG': {5: 54.54545454545454,\n",
       "  10: 68.18181818181817,\n",
       "  15: 50.0,\n",
       "  20: 59.09090909090909,\n",
       "  25: 54.54545454545454,\n",
       "  30: 61.904761904761905},\n",
       " 'NT2': {5: 40.0, 10: 45.0, 15: 50.0, 20: 45.0, 25: 50.0, 30: 50.0},\n",
       " 'NVL': {5: 41.66666666666667,\n",
       "  10: 41.66666666666667,\n",
       "  15: 33.33333333333333,\n",
       "  20: 41.66666666666667,\n",
       "  25: 50.0,\n",
       "  30: 50.0},\n",
       " 'PLX': {5: 37.5, 10: 43.75, 15: 43.75, 20: 25.0, 25: 31.25, 30: 20.0},\n",
       " 'REE': {5: 45.45454545454545,\n",
       "  10: 50.0,\n",
       "  15: 45.45454545454545,\n",
       "  20: 45.45454545454545,\n",
       "  25: 54.54545454545454,\n",
       "  30: 63.63636363636363},\n",
       " 'ROS': {5: 58.333333333333336,\n",
       "  10: 41.66666666666667,\n",
       "  15: 25.0,\n",
       "  20: 25.0,\n",
       "  25: 25.0,\n",
       "  30: 25.0},\n",
       " 'SAB': {5: 68.75, 10: 56.25, 15: 37.5, 20: 43.75, 25: 50.0, 30: 50.0},\n",
       " 'SBT': {5: 52.94117647058824,\n",
       "  10: 58.82352941176471,\n",
       "  15: 64.70588235294117,\n",
       "  20: 35.294117647058826,\n",
       "  25: 52.94117647058824,\n",
       "  30: 41.17647058823529},\n",
       " 'SSI': {5: 53.333333333333336,\n",
       "  10: 66.66666666666666,\n",
       "  15: 53.333333333333336,\n",
       "  20: 60.0,\n",
       "  25: 40.0,\n",
       "  30: 40.0},\n",
       " 'STB': {5: 55.55555555555556,\n",
       "  10: 55.55555555555556,\n",
       "  15: 61.111111111111114,\n",
       "  20: 61.111111111111114,\n",
       "  25: 55.55555555555556,\n",
       "  30: 52.94117647058824},\n",
       " 'VCB': {5: 37.5,\n",
       "  10: 50.0,\n",
       "  15: 50.0,\n",
       "  20: 50.0,\n",
       "  25: 37.5,\n",
       "  30: 46.666666666666664},\n",
       " 'VIC': {5: 76.47058823529412,\n",
       "  10: 64.70588235294117,\n",
       "  15: 58.82352941176471,\n",
       "  20: 76.47058823529412,\n",
       "  25: 76.47058823529412,\n",
       "  30: 75.0},\n",
       " 'VJC': {5: 60.0,\n",
       "  10: 53.333333333333336,\n",
       "  15: 53.333333333333336,\n",
       "  20: 53.333333333333336,\n",
       "  25: 53.333333333333336,\n",
       "  30: 46.666666666666664},\n",
       " 'VNM': {5: 36.84210526315789,\n",
       "  10: 47.368421052631575,\n",
       "  15: 47.368421052631575,\n",
       "  20: 47.368421052631575,\n",
       "  25: 42.10526315789473,\n",
       "  30: 36.84210526315789}}"
      ]
     },
     "execution_count": 60,
     "metadata": {},
     "output_type": "execute_result"
    }
   ],
   "source": [
    "winrate_macd"
   ]
  },
  {
   "cell_type": "code",
   "execution_count": 61,
   "metadata": {},
   "outputs": [],
   "source": [
    "winrate_macd = pd.DataFrame(winrate_macd)"
   ]
  },
  {
   "cell_type": "code",
   "execution_count": 62,
   "metadata": {},
   "outputs": [],
   "source": [
    "winrate_macd.to_excel('macd.xlsx')"
   ]
  },
  {
   "cell_type": "code",
   "execution_count": 63,
   "metadata": {},
   "outputs": [],
   "source": [
    "def calculate_indicators_bb(df):\n",
    "    if df.empty:\n",
    "        return df\n",
    "    df['RSI'] = ta.momentum.RSIIndicator(df['close'], RSI_PERIOD).rsi()\n",
    "    df['Bollinger_high'] = ta.volatility.bollinger_hband(df['close'], window=15, window_dev=2)\n",
    "    df['Bollinger_low'] = ta.volatility.bollinger_lband(df['close'], window=15, window_dev=2)\n",
    "    df['Previous_RSI'] = df['RSI'].shift(1)\n",
    "    df['Previous_RSI'].fillna(0, inplace=True)\n",
    "    return df"
   ]
  },
  {
   "cell_type": "code",
   "execution_count": 64,
   "metadata": {},
   "outputs": [],
   "source": [
    "def trading_strategy_test_bb(df, day_range=(5, 30), step=5):\n",
    "    results = {}\n",
    "    \n",
    "    for days in range(day_range[0], day_range[1] + 1, step):\n",
    "        df['Buy_Signal'] = (df['close'] <= df['Bollinger_low']) & (df['RSI'] < RSI_OVERSOLD)\n",
    "        wins = 0\n",
    "        total_trades = 0\n",
    "        for i in range(len(df)):\n",
    "            if df['Buy_Signal'].iloc[i]:\n",
    "                buy_price = df['close'].iloc[i]\n",
    "                if i + days < len(df):\n",
    "                    sell_price = df['close'].iloc[i + days]\n",
    "                    if sell_price > buy_price:\n",
    "                        wins += 1\n",
    "                    total_trades += 1\n",
    "\n",
    "        win_rate = (wins / total_trades * 100) if total_trades != 0 else 0\n",
    "        results[days] = win_rate\n",
    "    \n",
    "    return results"
   ]
  },
  {
   "cell_type": "code",
   "execution_count": 65,
   "metadata": {},
   "outputs": [],
   "source": [
    "def company_winrate_bb(symbol, start_date, end_date):\n",
    "    vn = Vnstock()\n",
    "    df = vn.stock(symbol=symbol, source='VCI').quote.history(start=start_date, end=end_date)\n",
    "    if df.empty:\n",
    "        return [0, 0] \n",
    "    \n",
    "    df = calculate_indicators_bb(df)\n",
    "    winrate = trading_strategy_test_bb(df)\n",
    "        \n",
    "    return winrate"
   ]
  },
  {
   "cell_type": "code",
   "execution_count": 66,
   "metadata": {},
   "outputs": [
    {
     "name": "stderr",
     "output_type": "stream",
     "text": [
      "2025-01-14 18:14:43 - vnstock3.common.data.data_explorer - WARNING - Thông tin niêm yết & giao dịch sẽ được truy xuất từ TCBS\n",
      "2025-01-14 18:14:45 - vnstock3.common.data.data_explorer - WARNING - Thông tin niêm yết & giao dịch sẽ được truy xuất từ TCBS\n",
      "2025-01-14 18:14:47 - vnstock3.common.data.data_explorer - WARNING - Thông tin niêm yết & giao dịch sẽ được truy xuất từ TCBS\n",
      "2025-01-14 18:14:50 - vnstock3.common.data.data_explorer - WARNING - Thông tin niêm yết & giao dịch sẽ được truy xuất từ TCBS\n",
      "2025-01-14 18:14:53 - vnstock3.common.data.data_explorer - WARNING - Thông tin niêm yết & giao dịch sẽ được truy xuất từ TCBS\n",
      "2025-01-14 18:14:55 - vnstock3.common.data.data_explorer - WARNING - Thông tin niêm yết & giao dịch sẽ được truy xuất từ TCBS\n",
      "2025-01-14 18:14:58 - vnstock3.common.data.data_explorer - WARNING - Thông tin niêm yết & giao dịch sẽ được truy xuất từ TCBS\n",
      "2025-01-14 18:15:01 - vnstock3.common.data.data_explorer - WARNING - Thông tin niêm yết & giao dịch sẽ được truy xuất từ TCBS\n",
      "2025-01-14 18:15:04 - vnstock3.common.data.data_explorer - WARNING - Thông tin niêm yết & giao dịch sẽ được truy xuất từ TCBS\n",
      "2025-01-14 18:15:07 - vnstock3.common.data.data_explorer - WARNING - Thông tin niêm yết & giao dịch sẽ được truy xuất từ TCBS\n",
      "2025-01-14 18:15:10 - vnstock3.common.data.data_explorer - WARNING - Thông tin niêm yết & giao dịch sẽ được truy xuất từ TCBS\n",
      "2025-01-14 18:15:13 - vnstock3.common.data.data_explorer - WARNING - Thông tin niêm yết & giao dịch sẽ được truy xuất từ TCBS\n",
      "2025-01-14 18:15:15 - vnstock3.common.data.data_explorer - WARNING - Thông tin niêm yết & giao dịch sẽ được truy xuất từ TCBS\n",
      "2025-01-14 18:15:17 - vnstock3.common.data.data_explorer - WARNING - Thông tin niêm yết & giao dịch sẽ được truy xuất từ TCBS\n",
      "2025-01-14 18:15:19 - vnstock3.common.data.data_explorer - WARNING - Thông tin niêm yết & giao dịch sẽ được truy xuất từ TCBS\n",
      "2025-01-14 18:15:20 - vnstock3.common.data.data_explorer - WARNING - Thông tin niêm yết & giao dịch sẽ được truy xuất từ TCBS\n",
      "2025-01-14 18:15:22 - vnstock3.common.data.data_explorer - WARNING - Thông tin niêm yết & giao dịch sẽ được truy xuất từ TCBS\n",
      "2025-01-14 18:15:24 - vnstock3.common.data.data_explorer - WARNING - Thông tin niêm yết & giao dịch sẽ được truy xuất từ TCBS\n",
      "2025-01-14 18:15:25 - vnstock3.common.data.data_explorer - WARNING - Thông tin niêm yết & giao dịch sẽ được truy xuất từ TCBS\n",
      "2025-01-14 18:15:27 - vnstock3.common.data.data_explorer - WARNING - Thông tin niêm yết & giao dịch sẽ được truy xuất từ TCBS\n",
      "2025-01-14 18:15:29 - vnstock3.common.data.data_explorer - WARNING - Thông tin niêm yết & giao dịch sẽ được truy xuất từ TCBS\n",
      "2025-01-14 18:15:31 - vnstock3.common.data.data_explorer - WARNING - Thông tin niêm yết & giao dịch sẽ được truy xuất từ TCBS\n",
      "2025-01-14 18:15:33 - vnstock3.common.data.data_explorer - WARNING - Thông tin niêm yết & giao dịch sẽ được truy xuất từ TCBS\n",
      "2025-01-14 18:15:35 - vnstock3.common.data.data_explorer - WARNING - Thông tin niêm yết & giao dịch sẽ được truy xuất từ TCBS\n",
      "2025-01-14 18:15:39 - vnstock3.common.data.data_explorer - WARNING - Thông tin niêm yết & giao dịch sẽ được truy xuất từ TCBS\n",
      "2025-01-14 18:15:41 - vnstock3.common.data.data_explorer - WARNING - Thông tin niêm yết & giao dịch sẽ được truy xuất từ TCBS\n",
      "2025-01-14 18:15:43 - vnstock3.common.data.data_explorer - WARNING - Thông tin niêm yết & giao dịch sẽ được truy xuất từ TCBS\n",
      "2025-01-14 18:15:44 - vnstock3.common.data.data_explorer - WARNING - Thông tin niêm yết & giao dịch sẽ được truy xuất từ TCBS\n",
      "2025-01-14 18:15:46 - vnstock3.common.data.data_explorer - WARNING - Thông tin niêm yết & giao dịch sẽ được truy xuất từ TCBS\n",
      "2025-01-14 18:15:47 - vnstock3.common.data.data_explorer - WARNING - Thông tin niêm yết & giao dịch sẽ được truy xuất từ TCBS\n"
     ]
    }
   ],
   "source": [
    "winrate_bb = {}\n",
    "for company in VN30:\n",
    "    try:\n",
    "        company_winr = company_winrate_bb(company, start_date=start_date, end_date=end_date)\n",
    "        winrate_bb[company] = company_winr\n",
    "\n",
    "    except Exception as e:\n",
    "        print(f\"Error occurred for {company}: {e}\")"
   ]
  },
  {
   "cell_type": "code",
   "execution_count": 67,
   "metadata": {},
   "outputs": [],
   "source": [
    "winrate_bb = pd.DataFrame(winrate_bb)"
   ]
  },
  {
   "cell_type": "code",
   "execution_count": 68,
   "metadata": {},
   "outputs": [],
   "source": [
    "winrate_bb.to_excel('bb.xlsx')"
   ]
  },
  {
   "cell_type": "code",
   "execution_count": 69,
   "metadata": {},
   "outputs": [],
   "source": [
    "OBV_PERIOD = 5"
   ]
  },
  {
   "cell_type": "code",
   "execution_count": 70,
   "metadata": {},
   "outputs": [],
   "source": [
    "def calculate_indicators_obv(df):\n",
    "    if df.empty:\n",
    "        return df\n",
    "    \n",
    "    df['RSI'] = ta.momentum.RSIIndicator(df['close'], RSI_PERIOD).rsi()\n",
    "    df['OBV'] = ta.volume.OnBalanceVolumeIndicator(df['close'], df['volume']).on_balance_volume()\n",
    "    df['OBV_Slope'] = df['OBV'].diff(periods=OBV_PERIOD)\n",
    "    df['Previous_RSI'] = df['RSI'].shift(1)\n",
    "    df['Previous_RSI'].fillna(0, inplace=True)\n",
    "\n",
    "    return df"
   ]
  },
  {
   "cell_type": "code",
   "execution_count": 71,
   "metadata": {},
   "outputs": [],
   "source": [
    "def trading_strategy_test_obv(df, day_range=(5, 30), step=5):\n",
    "    results = {}\n",
    "    \n",
    "    for days in range(day_range[0], day_range[1] + 1, step):\n",
    "        df['Buy_Signal'] = (df['Previous_RSI'] < RSI_OVERSOLD) & (df['RSI'] >= RSI_OVERSOLD) & (df['OBV_Slope'] > 0)\n",
    "        wins = 0\n",
    "        total_trades = 0\n",
    "        for i in range(len(df)):\n",
    "            if df['Buy_Signal'].iloc[i]:\n",
    "                buy_price = df['close'].iloc[i]\n",
    "                if i + days < len(df):\n",
    "                    sell_price = df['close'].iloc[i + days]\n",
    "                    if sell_price > buy_price:\n",
    "                        wins += 1\n",
    "                    total_trades += 1\n",
    "\n",
    "        win_rate = (wins / total_trades * 100) if total_trades != 0 else 0\n",
    "        results[days] = win_rate\n",
    "    \n",
    "    return results"
   ]
  },
  {
   "cell_type": "code",
   "execution_count": 72,
   "metadata": {},
   "outputs": [],
   "source": [
    "def company_winrate_obv(symbol, start_date, end_date):\n",
    "    vn = Vnstock()\n",
    "    df = vn.stock(symbol=symbol, source='VCI').quote.history(start=start_date, end=end_date)               \n",
    "    if df.empty:\n",
    "        return [0, 0] \n",
    "    \n",
    "    df = calculate_indicators_obv(df)\n",
    "    winrate = trading_strategy_test_obv(df)\n",
    "        \n",
    "    return winrate"
   ]
  },
  {
   "cell_type": "code",
   "execution_count": 73,
   "metadata": {},
   "outputs": [
    {
     "name": "stderr",
     "output_type": "stream",
     "text": [
      "2025-01-14 18:15:51 - vnstock3.common.data.data_explorer - WARNING - Thông tin niêm yết & giao dịch sẽ được truy xuất từ TCBS\n",
      "2025-01-14 18:15:53 - vnstock3.common.data.data_explorer - WARNING - Thông tin niêm yết & giao dịch sẽ được truy xuất từ TCBS\n",
      "2025-01-14 18:15:54 - vnstock3.common.data.data_explorer - WARNING - Thông tin niêm yết & giao dịch sẽ được truy xuất từ TCBS\n",
      "2025-01-14 18:15:56 - vnstock3.common.data.data_explorer - WARNING - Thông tin niêm yết & giao dịch sẽ được truy xuất từ TCBS\n",
      "2025-01-14 18:15:57 - vnstock3.common.data.data_explorer - WARNING - Thông tin niêm yết & giao dịch sẽ được truy xuất từ TCBS\n",
      "2025-01-14 18:15:59 - vnstock3.common.data.data_explorer - WARNING - Thông tin niêm yết & giao dịch sẽ được truy xuất từ TCBS\n",
      "2025-01-14 18:16:00 - vnstock3.common.data.data_explorer - WARNING - Thông tin niêm yết & giao dịch sẽ được truy xuất từ TCBS\n",
      "2025-01-14 18:16:02 - vnstock3.common.data.data_explorer - WARNING - Thông tin niêm yết & giao dịch sẽ được truy xuất từ TCBS\n",
      "2025-01-14 18:16:04 - vnstock3.common.data.data_explorer - WARNING - Thông tin niêm yết & giao dịch sẽ được truy xuất từ TCBS\n",
      "2025-01-14 18:16:05 - vnstock3.common.data.data_explorer - WARNING - Thông tin niêm yết & giao dịch sẽ được truy xuất từ TCBS\n",
      "2025-01-14 18:16:07 - vnstock3.common.data.data_explorer - WARNING - Thông tin niêm yết & giao dịch sẽ được truy xuất từ TCBS\n",
      "2025-01-14 18:16:09 - vnstock3.common.data.data_explorer - WARNING - Thông tin niêm yết & giao dịch sẽ được truy xuất từ TCBS\n",
      "2025-01-14 18:16:10 - vnstock3.common.data.data_explorer - WARNING - Thông tin niêm yết & giao dịch sẽ được truy xuất từ TCBS\n",
      "2025-01-14 18:16:12 - vnstock3.common.data.data_explorer - WARNING - Thông tin niêm yết & giao dịch sẽ được truy xuất từ TCBS\n",
      "2025-01-14 18:16:13 - vnstock3.common.data.data_explorer - WARNING - Thông tin niêm yết & giao dịch sẽ được truy xuất từ TCBS\n",
      "2025-01-14 18:16:15 - vnstock3.common.data.data_explorer - WARNING - Thông tin niêm yết & giao dịch sẽ được truy xuất từ TCBS\n",
      "2025-01-14 18:16:16 - vnstock3.common.data.data_explorer - WARNING - Thông tin niêm yết & giao dịch sẽ được truy xuất từ TCBS\n",
      "2025-01-14 18:16:18 - vnstock3.common.data.data_explorer - WARNING - Thông tin niêm yết & giao dịch sẽ được truy xuất từ TCBS\n",
      "2025-01-14 18:16:22 - vnstock3.common.data.data_explorer - WARNING - Thông tin niêm yết & giao dịch sẽ được truy xuất từ TCBS\n",
      "2025-01-14 18:16:23 - vnstock3.common.data.data_explorer - WARNING - Thông tin niêm yết & giao dịch sẽ được truy xuất từ TCBS\n",
      "2025-01-14 18:16:25 - vnstock3.common.data.data_explorer - WARNING - Thông tin niêm yết & giao dịch sẽ được truy xuất từ TCBS\n",
      "2025-01-14 18:16:27 - vnstock3.common.data.data_explorer - WARNING - Thông tin niêm yết & giao dịch sẽ được truy xuất từ TCBS\n",
      "2025-01-14 18:16:28 - vnstock3.common.data.data_explorer - WARNING - Thông tin niêm yết & giao dịch sẽ được truy xuất từ TCBS\n",
      "2025-01-14 18:16:30 - vnstock3.common.data.data_explorer - WARNING - Thông tin niêm yết & giao dịch sẽ được truy xuất từ TCBS\n",
      "2025-01-14 18:16:32 - vnstock3.common.data.data_explorer - WARNING - Thông tin niêm yết & giao dịch sẽ được truy xuất từ TCBS\n",
      "2025-01-14 18:16:34 - vnstock3.common.data.data_explorer - WARNING - Thông tin niêm yết & giao dịch sẽ được truy xuất từ TCBS\n",
      "2025-01-14 18:16:36 - vnstock3.common.data.data_explorer - WARNING - Thông tin niêm yết & giao dịch sẽ được truy xuất từ TCBS\n",
      "2025-01-14 18:16:37 - vnstock3.common.data.data_explorer - WARNING - Thông tin niêm yết & giao dịch sẽ được truy xuất từ TCBS\n",
      "2025-01-14 18:16:39 - vnstock3.common.data.data_explorer - WARNING - Thông tin niêm yết & giao dịch sẽ được truy xuất từ TCBS\n",
      "2025-01-14 18:16:41 - vnstock3.common.data.data_explorer - WARNING - Thông tin niêm yết & giao dịch sẽ được truy xuất từ TCBS\n"
     ]
    }
   ],
   "source": [
    "winrate_obv = {}\n",
    "for company in VN30:\n",
    "    try:\n",
    "        company_winr = company_winrate_obv(company, start_date=start_date, end_date=end_date)\n",
    "        winrate_obv[company] = company_winr\n",
    "\n",
    "    except Exception as e:\n",
    "        print(f\"Error occurred for {company}: {e}\")"
   ]
  },
  {
   "cell_type": "code",
   "execution_count": 74,
   "metadata": {},
   "outputs": [],
   "source": [
    "winrate_obv = pd.DataFrame(winrate_obv)\n",
    "winrate_obv.to_excel('obv.xlsx')"
   ]
  }
 ],
 "metadata": {
  "kernelspec": {
   "display_name": "Python 3",
   "language": "python",
   "name": "python3"
  },
  "language_info": {
   "codemirror_mode": {
    "name": "ipython",
    "version": 3
   },
   "file_extension": ".py",
   "mimetype": "text/x-python",
   "name": "python",
   "nbconvert_exporter": "python",
   "pygments_lexer": "ipython3",
   "version": "3.12.0"
  }
 },
 "nbformat": 4,
 "nbformat_minor": 2
}
